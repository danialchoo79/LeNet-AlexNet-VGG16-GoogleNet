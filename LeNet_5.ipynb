{
  "nbformat": 4,
  "nbformat_minor": 0,
  "metadata": {
    "colab": {
      "provenance": []
    },
    "kernelspec": {
      "name": "python3",
      "display_name": "Python 3"
    },
    "language_info": {
      "name": "python"
    },
    "accelerator": "GPU",
    "gpuClass": "standard"
  },
  "cells": [
    {
      "cell_type": "markdown",
      "source": [
        "## **Code implementation of LeNet5**"
      ],
      "metadata": {
        "id": "qqnhfrEo_7YS"
      }
    },
    {
      "cell_type": "code",
      "execution_count": null,
      "metadata": {
        "id": "W0zHYXZg-tTy"
      },
      "outputs": [],
      "source": [
        "#Importing necessary libraries\n",
        "import tensorflow as tf\n",
        "import keras\n",
        "from keras.datasets import mnist\n",
        "from keras.layers import Conv2D, MaxPooling2D\n",
        "from keras.layers import Dense, Flatten\n",
        "from keras.models import Sequential\n",
        "from tensorflow.keras.utils import to_categorical, plot_model"
      ]
    },
    {
      "cell_type": "markdown",
      "source": [
        "## **Loading Dataset**"
      ],
      "metadata": {
        "id": "tAYqyhSF_NF8"
      }
    },
    {
      "cell_type": "code",
      "source": [
        "# Loading the dataset and performing splitting\n",
        "(x_train, y_train), (x_test, y_test) = mnist.load_data()"
      ],
      "metadata": {
        "colab": {
          "base_uri": "https://localhost:8080/"
        },
        "id": "9aom__63_LY9",
        "outputId": "b33c85f1-b78b-4b7a-f396-17e5c33b5293"
      },
      "execution_count": null,
      "outputs": [
        {
          "output_type": "stream",
          "name": "stdout",
          "text": [
            "Downloading data from https://storage.googleapis.com/tensorflow/tf-keras-datasets/mnist.npz\n",
            "11490434/11490434 [==============================] - 1s 0us/step\n"
          ]
        }
      ]
    },
    {
      "cell_type": "markdown",
      "source": [
        "## **Image Data Preprocessing**"
      ],
      "metadata": {
        "id": "dOT6264G_gZM"
      }
    },
    {
      "cell_type": "code",
      "source": [
        "#Performing reshaping operation\n",
        "x_train = x_train.reshape(x_train.shape[0], 28, 28, 1)\n",
        "x_test = x_test.reshape(x_test.shape[0], 28, 28, 1)\n",
        "\n",
        "#Normalization\n",
        "x_train = x_train/255\n",
        "x_test = x_test/255\n",
        "\n",
        "#One hot encoding\n",
        "y_train = to_categorical(y_train, 10)\n",
        "y_test = to_categorical(y_test, 10)"
      ],
      "metadata": {
        "id": "2EdAq983_ftc"
      },
      "execution_count": null,
      "outputs": []
    },
    {
      "cell_type": "markdown",
      "source": [
        "## **LeNet Model Architecture**"
      ],
      "metadata": {
        "id": "cd5H4ZKVAk9c"
      }
    },
    {
      "cell_type": "code",
      "source": [
        "#Building the Model Architecture\n",
        "model = Sequential()\n",
        "\n",
        "#Convolutional layer\n",
        "model.add(Conv2D(6, kernel_size=(5,5), activation='tanh',input_shape=(28,28,1)))\n",
        "\n",
        "#Maxpooling\n",
        "model.add(MaxPooling2D(pool_size=(2,2)))\n",
        "\n",
        "#Convolutional Layer\n",
        "model.add(Conv2D(16, kernel_size=(5,5), activation='tanh'))\n",
        "\n",
        "#Maxpooling\n",
        "model.add(MaxPooling2D(pool_size=(2,2)))\n",
        "\n",
        "#Flatten Layer\n",
        "model.add(Flatten())\n",
        "\n",
        "#Fully Connected Layer\n",
        "model.add(Dense(120,activation='tanh'))\n",
        "model.add(Dense(84,activation='tanh'))\n",
        "model.add(Dense(10,activation='softmax'))"
      ],
      "metadata": {
        "id": "VzmpZU7PAodN"
      },
      "execution_count": null,
      "outputs": []
    },
    {
      "cell_type": "code",
      "source": [
        "#Compile the model\n",
        "model.compile(loss=keras.metrics.categorical_crossentropy, optimizer=tf.keras.optimizers.Adam(),metrics=['accuracy'])"
      ],
      "metadata": {
        "id": "yyR-nQKZBW0l"
      },
      "execution_count": null,
      "outputs": []
    },
    {
      "cell_type": "code",
      "source": [
        "#Fit the model\n",
        "model.fit(x_train,y_train,batch_size=128,epochs=20,verbose=1,validation_data=(x_test,y_test))"
      ],
      "metadata": {
        "colab": {
          "base_uri": "https://localhost:8080/"
        },
        "id": "n1C-yGnqCuVA",
        "outputId": "4fca5672-549d-4922-8cb3-339db13c572d"
      },
      "execution_count": null,
      "outputs": [
        {
          "output_type": "stream",
          "name": "stdout",
          "text": [
            "Epoch 1/20\n",
            "469/469 [==============================] - 3s 5ms/step - loss: 0.2942 - accuracy: 0.9162 - val_loss: 0.0866 - val_accuracy: 0.9755\n",
            "Epoch 2/20\n",
            "469/469 [==============================] - 2s 5ms/step - loss: 0.0787 - accuracy: 0.9768 - val_loss: 0.0575 - val_accuracy: 0.9830\n",
            "Epoch 3/20\n",
            "469/469 [==============================] - 2s 5ms/step - loss: 0.0558 - accuracy: 0.9831 - val_loss: 0.0518 - val_accuracy: 0.9823\n",
            "Epoch 4/20\n",
            "469/469 [==============================] - 2s 4ms/step - loss: 0.0423 - accuracy: 0.9873 - val_loss: 0.0434 - val_accuracy: 0.9856\n",
            "Epoch 5/20\n",
            "469/469 [==============================] - 2s 5ms/step - loss: 0.0346 - accuracy: 0.9893 - val_loss: 0.0383 - val_accuracy: 0.9874\n",
            "Epoch 6/20\n",
            "469/469 [==============================] - 2s 4ms/step - loss: 0.0275 - accuracy: 0.9912 - val_loss: 0.0396 - val_accuracy: 0.9856\n",
            "Epoch 7/20\n",
            "469/469 [==============================] - 2s 4ms/step - loss: 0.0236 - accuracy: 0.9927 - val_loss: 0.0314 - val_accuracy: 0.9885\n",
            "Epoch 8/20\n",
            "469/469 [==============================] - 2s 5ms/step - loss: 0.0176 - accuracy: 0.9947 - val_loss: 0.0397 - val_accuracy: 0.9865\n",
            "Epoch 9/20\n",
            "469/469 [==============================] - 2s 4ms/step - loss: 0.0153 - accuracy: 0.9954 - val_loss: 0.0367 - val_accuracy: 0.9884\n",
            "Epoch 10/20\n",
            "469/469 [==============================] - 2s 5ms/step - loss: 0.0120 - accuracy: 0.9965 - val_loss: 0.0428 - val_accuracy: 0.9860\n",
            "Epoch 11/20\n",
            "469/469 [==============================] - 2s 5ms/step - loss: 0.0099 - accuracy: 0.9972 - val_loss: 0.0380 - val_accuracy: 0.9881\n",
            "Epoch 12/20\n",
            "469/469 [==============================] - 2s 4ms/step - loss: 0.0090 - accuracy: 0.9976 - val_loss: 0.0379 - val_accuracy: 0.9892\n",
            "Epoch 13/20\n",
            "469/469 [==============================] - 2s 5ms/step - loss: 0.0071 - accuracy: 0.9980 - val_loss: 0.0357 - val_accuracy: 0.9894\n",
            "Epoch 14/20\n",
            "469/469 [==============================] - 2s 5ms/step - loss: 0.0066 - accuracy: 0.9980 - val_loss: 0.0407 - val_accuracy: 0.9869\n",
            "Epoch 15/20\n",
            "469/469 [==============================] - 2s 5ms/step - loss: 0.0075 - accuracy: 0.9975 - val_loss: 0.0355 - val_accuracy: 0.9891\n",
            "Epoch 16/20\n",
            "469/469 [==============================] - 2s 5ms/step - loss: 0.0053 - accuracy: 0.9985 - val_loss: 0.0355 - val_accuracy: 0.9903\n",
            "Epoch 17/20\n",
            "469/469 [==============================] - 2s 5ms/step - loss: 0.0049 - accuracy: 0.9988 - val_loss: 0.0459 - val_accuracy: 0.9872\n",
            "Epoch 18/20\n",
            "469/469 [==============================] - 2s 4ms/step - loss: 0.0032 - accuracy: 0.9992 - val_loss: 0.0348 - val_accuracy: 0.9911\n",
            "Epoch 19/20\n",
            "469/469 [==============================] - 2s 4ms/step - loss: 0.0014 - accuracy: 0.9998 - val_loss: 0.0397 - val_accuracy: 0.9897\n",
            "Epoch 20/20\n",
            "469/469 [==============================] - 2s 4ms/step - loss: 0.0098 - accuracy: 0.9967 - val_loss: 0.0424 - val_accuracy: 0.9883\n"
          ]
        },
        {
          "output_type": "execute_result",
          "data": {
            "text/plain": [
              "<keras.callbacks.History at 0x7f202c1e6e80>"
            ]
          },
          "metadata": {},
          "execution_count": 11
        }
      ]
    },
    {
      "cell_type": "code",
      "source": [
        "score = model.evaluate(x_test, y_test)\n",
        "print('Test Loss: ', score[0])\n",
        "print('Test accuracy: ', score[1])"
      ],
      "metadata": {
        "colab": {
          "base_uri": "https://localhost:8080/"
        },
        "id": "BF2x9N2aFa6I",
        "outputId": "06a176d0-528d-4958-81ab-1345f2e04672"
      },
      "execution_count": null,
      "outputs": [
        {
          "output_type": "stream",
          "name": "stdout",
          "text": [
            "313/313 [==============================] - 1s 3ms/step - loss: 0.0424 - accuracy: 0.9883\n",
            "Test Loss:  0.042447421699762344\n",
            "Test accuracy:  0.9883000254631042\n"
          ]
        }
      ]
    }
  ]
}